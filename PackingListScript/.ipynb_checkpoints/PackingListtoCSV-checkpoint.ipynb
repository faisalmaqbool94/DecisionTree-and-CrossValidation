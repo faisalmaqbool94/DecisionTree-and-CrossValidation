{
 "cells": [
  {
   "cell_type": "code",
   "execution_count": 1,
   "metadata": {},
   "outputs": [],
   "source": [
    "import pandas as pd\n",
    "import numpy as np"
   ]
  },
  {
   "cell_type": "code",
   "execution_count": 2,
   "metadata": {},
   "outputs": [],
   "source": [
    "df = pd.read_excel('PackingListFormat.xlsx', usecols=[0,1,2,3,4,5], header=10)"
   ]
  },
  {
   "cell_type": "code",
   "execution_count": 43,
   "metadata": {
    "scrolled": true
   },
   "outputs": [
    {
     "data": {
      "text/plain": [
       "(43, 6)"
      ]
     },
     "execution_count": 43,
     "metadata": {},
     "output_type": "execute_result"
    }
   ],
   "source": [
    "df.shape"
   ]
  },
  {
   "cell_type": "code",
   "execution_count": 4,
   "metadata": {},
   "outputs": [],
   "source": [
    "df.drop(df.tail(2).index,inplace=True)"
   ]
  },
  {
   "cell_type": "code",
   "execution_count": 5,
   "metadata": {},
   "outputs": [],
   "source": [
    "forCsv = df.groupby(['Item Code'], as_index=False)['Item Code','Number of Pieces','Number of Cartons'].sum()"
   ]
  },
  {
   "cell_type": "code",
   "execution_count": 6,
   "metadata": {},
   "outputs": [],
   "source": [
    "forCsv['Item Code'] = forCsv['Item Code'].astype(str)"
   ]
  },
  {
   "cell_type": "code",
   "execution_count": 7,
   "metadata": {},
   "outputs": [],
   "source": [
    "forCsv['Number of Pieces'] = forCsv['Number of Pieces'].astype(int)"
   ]
  },
  {
   "cell_type": "code",
   "execution_count": 8,
   "metadata": {},
   "outputs": [],
   "source": [
    "forCsv['Number of Cartons'] = forCsv['Number of Cartons'].astype(int)"
   ]
  },
  {
   "cell_type": "code",
   "execution_count": 42,
   "metadata": {},
   "outputs": [
    {
     "data": {
      "text/plain": [
       "(33, 3)"
      ]
     },
     "execution_count": 42,
     "metadata": {},
     "output_type": "execute_result"
    }
   ],
   "source": [
    "forCsv.shape"
   ]
  },
  {
   "cell_type": "code",
   "execution_count": 10,
   "metadata": {},
   "outputs": [],
   "source": [
    "forCsv.to_csv('packing.csv',index=False)"
   ]
  },
  {
   "cell_type": "code",
   "execution_count": 32,
   "metadata": {},
   "outputs": [],
   "source": [
    "outDf = pd.read_csv('newoutput.csv', names =['Item Code','Number of Pieces','Number of Cartons'], header=1)"
   ]
  },
  {
   "cell_type": "code",
   "execution_count": 33,
   "metadata": {},
   "outputs": [
    {
     "data": {
      "text/html": [
       "<div>\n",
       "<style scoped>\n",
       "    .dataframe tbody tr th:only-of-type {\n",
       "        vertical-align: middle;\n",
       "    }\n",
       "\n",
       "    .dataframe tbody tr th {\n",
       "        vertical-align: top;\n",
       "    }\n",
       "\n",
       "    .dataframe thead th {\n",
       "        text-align: right;\n",
       "    }\n",
       "</style>\n",
       "<table border=\"1\" class=\"dataframe\">\n",
       "  <thead>\n",
       "    <tr style=\"text-align: right;\">\n",
       "      <th></th>\n",
       "      <th>Item Code</th>\n",
       "      <th>Number of Pieces</th>\n",
       "      <th>Number of Cartons</th>\n",
       "    </tr>\n",
       "  </thead>\n",
       "  <tbody>\n",
       "    <tr>\n",
       "      <th>0</th>\n",
       "      <td>894809</td>\n",
       "      <td>52</td>\n",
       "      <td>13</td>\n",
       "    </tr>\n",
       "    <tr>\n",
       "      <th>1</th>\n",
       "      <td>894810</td>\n",
       "      <td>176</td>\n",
       "      <td>44</td>\n",
       "    </tr>\n",
       "    <tr>\n",
       "      <th>2</th>\n",
       "      <td>894811</td>\n",
       "      <td>192</td>\n",
       "      <td>48</td>\n",
       "    </tr>\n",
       "    <tr>\n",
       "      <th>3</th>\n",
       "      <td>894812</td>\n",
       "      <td>52</td>\n",
       "      <td>13</td>\n",
       "    </tr>\n",
       "    <tr>\n",
       "      <th>4</th>\n",
       "      <td>894814</td>\n",
       "      <td>316</td>\n",
       "      <td>79</td>\n",
       "    </tr>\n",
       "  </tbody>\n",
       "</table>\n",
       "</div>"
      ],
      "text/plain": [
       "   Item Code  Number of Pieces  Number of Cartons\n",
       "0     894809                52                 13\n",
       "1     894810               176                 44\n",
       "2     894811               192                 48\n",
       "3     894812                52                 13\n",
       "4     894814               316                 79"
      ]
     },
     "execution_count": 33,
     "metadata": {},
     "output_type": "execute_result"
    }
   ],
   "source": [
    "outDf.head()"
   ]
  },
  {
   "cell_type": "code",
   "execution_count": 44,
   "metadata": {},
   "outputs": [],
   "source": [
    "outDf = outDf.groupby(['Item Code'], as_index=False)['Item Code','Number of Pieces','Number of Cartons'].sum()"
   ]
  },
  {
   "cell_type": "code",
   "execution_count": 45,
   "metadata": {},
   "outputs": [],
   "source": [
    "outDf['Item Code'] = outDf['Item Code'].astype(str)"
   ]
  },
  {
   "cell_type": "code",
   "execution_count": 46,
   "metadata": {},
   "outputs": [],
   "source": [
    "outDf['Number of Pieces'] = outDf['Number of Pieces'].astype(int)"
   ]
  },
  {
   "cell_type": "code",
   "execution_count": 47,
   "metadata": {},
   "outputs": [],
   "source": [
    "outDf['Number of Cartons'] = outDf['Number of Cartons'].astype(int)"
   ]
  },
  {
   "cell_type": "code",
   "execution_count": 48,
   "metadata": {},
   "outputs": [
    {
     "name": "stdout",
     "output_type": "stream",
     "text": [
      "   Item Code  Number of Pieces  Number of Cartons\n",
      "0     895003                76                 19\n",
      "1     895004                76                 19\n",
      "2     895005               124                 31\n",
      "3     895006                92                 23\n",
      "4     895007                92                 23\n",
      "5     895010                92                 23\n",
      "6     895013               152                 38\n",
      "7     895017               112                 28\n",
      "8     895024                76                 19\n",
      "9     895026                76                 19\n",
      "10    895027               124                 31\n",
      "11    895028                92                 23\n",
      "12    895059                80                 20\n",
      "13    895060                52                 13\n",
      "14    895523               120                 30\n",
      "15    895524                80                 20\n",
      "16    895751                52                 13\n",
      "17    895752                52                 13\n",
      "18    895754                52                 13\n",
      "19    896129                90                 18\n",
      "20    896130                80                 16\n",
      "21    896134                50                 10\n",
      "22    896140               120                 24\n",
      "23    896141                55                 11\n"
     ]
    }
   ],
   "source": [
    "common = forCsv.merge(outDf,on=['Item Code','Number of Pieces','Number of Cartons'])\n",
    "print(common)\n",
    "#df1[(~df1.col1.isin(common.col1))&(~df1.col2.isin(common.col2))]"
   ]
  },
  {
   "cell_type": "code",
   "execution_count": 50,
   "metadata": {},
   "outputs": [
    {
     "name": "stdout",
     "output_type": "stream",
     "text": [
      "   Item Code  Number of Pieces  Number of Cartons\n",
      "0     895003                76                 19\n",
      "1     895004                76                 19\n",
      "2     895005               124                 31\n",
      "3     895006                92                 23\n",
      "4     895007                92                 23\n",
      "5     895010                92                 23\n",
      "6     895013               152                 38\n",
      "7     895017               112                 28\n",
      "8     895024                76                 19\n",
      "9     895026                76                 19\n",
      "10    895027               124                 31\n",
      "11    895028                92                 23\n",
      "12    895059                80                 20\n",
      "13    895060                52                 13\n",
      "14    895523               120                 30\n",
      "15    895524                80                 20\n",
      "16    895751                52                 13\n",
      "17    895752                52                 13\n",
      "18    895754                52                 13\n",
      "19    896129                90                 18\n",
      "20    896130                80                 16\n",
      "21    896134                50                 10\n",
      "22    896140               120                 24\n",
      "23    896141                55                 11\n"
     ]
    }
   ],
   "source": [
    "common = outDf.merge(forCsv,on=['Item Code','Number of Pieces','Number of Cartons'])\n",
    "print(common)"
   ]
  },
  {
   "cell_type": "code",
   "execution_count": 51,
   "metadata": {},
   "outputs": [
    {
     "data": {
      "text/html": [
       "<div>\n",
       "<style scoped>\n",
       "    .dataframe tbody tr th:only-of-type {\n",
       "        vertical-align: middle;\n",
       "    }\n",
       "\n",
       "    .dataframe tbody tr th {\n",
       "        vertical-align: top;\n",
       "    }\n",
       "\n",
       "    .dataframe thead th {\n",
       "        text-align: right;\n",
       "    }\n",
       "</style>\n",
       "<table border=\"1\" class=\"dataframe\">\n",
       "  <thead>\n",
       "    <tr style=\"text-align: right;\">\n",
       "      <th></th>\n",
       "      <th>Item Code</th>\n",
       "      <th>Number of Pieces</th>\n",
       "      <th>Number of Cartons</th>\n",
       "    </tr>\n",
       "  </thead>\n",
       "  <tbody>\n",
       "  </tbody>\n",
       "</table>\n",
       "</div>"
      ],
      "text/plain": [
       "Empty DataFrame\n",
       "Columns: [Item Code, Number of Pieces, Number of Cartons]\n",
       "Index: []"
      ]
     },
     "execution_count": 51,
     "metadata": {},
     "output_type": "execute_result"
    }
   ],
   "source": [
    "outDf[(~forCsv['Item Code'].isin(common['Item Code']))&(~outDf['Number of Pieces'].isin(common['Number of Pieces'])) & (~outDf['Number of Cartons'].isin(common['Number of Cartons']))]"
   ]
  }
 ],
 "metadata": {
  "kernelspec": {
   "display_name": "Python 3",
   "language": "python",
   "name": "python3"
  },
  "language_info": {
   "codemirror_mode": {
    "name": "ipython",
    "version": 3
   },
   "file_extension": ".py",
   "mimetype": "text/x-python",
   "name": "python",
   "nbconvert_exporter": "python",
   "pygments_lexer": "ipython3",
   "version": "3.7.2"
  }
 },
 "nbformat": 4,
 "nbformat_minor": 2
}
